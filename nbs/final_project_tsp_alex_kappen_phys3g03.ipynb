{
 "cells": [
  {
   "cell_type": "markdown",
   "id": "unknown-revelation",
   "metadata": {},
   "source": [
    "# Genetic Algorithm & Travelling Salesperson Problem\n",
    "\n",
    "## Physics 3G03 Final Project\n",
    "\n",
    "Alex Kappen\n",
    "\n",
    "Student #: 400199797\n",
    "\n",
    "30 April, 2021"
   ]
  },
  {
   "cell_type": "markdown",
   "id": "affecting-plenty",
   "metadata": {},
   "source": [
    "## Introduction\n",
    "\n",
    "In nature, we see incredibly diverse solutions to the problem of staying alive and reproducing; Birds, insects, dinosaurs, bacteria, fungi, archaea, plants, humans, and all kinds of creatures have existed and continue to exist thanks to the principle of evolution. Clearly, there are many successful solutions to staying alive. In computer science terms, we can say that the \"solution space\" of the problem is massive.\n",
    "\n",
    "We find massive solution spaces in numerous other problems in science & technology, medicine, finance, and other fields. For example, what is the best antenna design for a spacecraft? Or, given all the available medicines, which combination should I take or avoid? These problems are especially difficult to solve because, as in nature, we don't know the best answer, and solutions need to adapt to the features and constraints of the current version of the problem.\n",
    "\n",
    "Like nature, we can take advantage of the principle of evolution to navigate these massive, dynamic solution spaces in a direction that will lead us to optimal, or near-optimal, solutions in a reasonable amount of time and energy. Artifical Intelligence computer programs that operate with this principle are called \"Evolutionary Algorithms\". Tim Harford describes them nicely:\n",
    "\n",
    ">“The evolutionary algorithm--of variation and selection, repeated--searches for solutions in a world where the problems keep changing, trying all sorts of variants and doing more of what works.” - Tim Harford, *Adapt: Why Success Always Starts with Failure*\n",
    "\n",
    "Evolutionary Algorithms are a broad topic, so I will narrow down the focus of this project to a subclass called **Genetic Algorithms**. One problem in particular that I will explore is the **Travelling Salesperson Problem**."
   ]
  },
  {
   "cell_type": "code",
   "execution_count": 41,
   "id": "sized-feeding",
   "metadata": {
    "tags": [
     "remove_input"
    ]
   },
   "outputs": [],
   "source": [
    "# imports\n",
    "import numpy as np\n",
    "from matplotlib import pyplot as plt\n",
    "from time import sleep\n",
    "from ipycanvas import Canvas, hold_canvas\n",
    "from IPython.display import Image "
   ]
  },
  {
   "cell_type": "markdown",
   "id": "irish-hollow",
   "metadata": {},
   "source": [
    "## The Travelling Salesperson Problem (TSP)\n",
    "\n",
    "A travelling salesperson wishes to visit $n$ cities, but wants to visit the cities such that they minimize the overall distance of the trip. What order should the travelling salesperson visit the cities?\n",
    "\n",
    "We can abstract this problem by saying: What is the shortest set of edges that connect a random set of points in 2D space?"
   ]
  },
  {
   "cell_type": "code",
   "execution_count": 50,
   "id": "institutional-transmission",
   "metadata": {
    "tags": [
     "remove_input"
    ]
   },
   "outputs": [
    {
     "data": {
      "application/vnd.jupyter.widget-view+json": {
       "model_id": "47fd0dad19ee46159ddaf945c70ddc7e",
       "version_major": 2,
       "version_minor": 0
      },
      "text/plain": [
       "Canvas(height=300, sync_image_data=True, width=400)"
      ]
     },
     "metadata": {},
     "output_type": "display_data"
    },
    {
     "name": "stdout",
     "output_type": "stream",
     "text": [
      "What is the shortest path connecting all these points? (cities_7.png)\n"
     ]
    }
   ],
   "source": [
    "def create_cities(total_cities, lower_bounds=[0, 0], upper_bounds=[100, 100]):\n",
    "    return np.random.randint(lower_bounds, upper_bounds, size=(total_cities, 2))\n",
    "\n",
    "# Visualize cities\n",
    "canvas = Canvas(width=400, height=300, sync_image_data=True)\n",
    "display(canvas)\n",
    "print(\"What is the shortest path connecting all these points? (cities_7.png)\")\n",
    "\n",
    "cities7 = create_cities(7, lower_bounds=[15, 15], upper_bounds=[(canvas.width)-15, canvas.height-15])\n",
    "\n",
    "with hold_canvas(canvas):\n",
    "        # Draw cities & Paths\n",
    "        canvas.line_width = 1.0\n",
    "        canvas.fill_style = '#000000'\n",
    "        canvas.fill_rect(0, 0, canvas.width, canvas.height)\n",
    "        canvas.fill_style = '#ffffff'\n",
    "        canvas.fill_circles(cities[:,0], cities[:,1], 3)"
   ]
  },
  {
   "cell_type": "code",
   "execution_count": 51,
   "id": "surrounded-warning",
   "metadata": {
    "tags": [
     "remove_input"
    ]
   },
   "outputs": [],
   "source": [
    "canvas.to_file('cities_7.png')"
   ]
  },
  {
   "cell_type": "markdown",
   "id": "guided-worker",
   "metadata": {},
   "source": [
    "There are a couple of different ways to approach TSP. To better illustrate the utility of a Genetic Algorithm, let's take a quick detour to an inefficient approach: the Lexographic Permutations algorithm."
   ]
  },
  {
   "cell_type": "markdown",
   "id": "suspected-popularity",
   "metadata": {},
   "source": [
    "## Lexigraphic Permutations Solution\n",
    "\n",
    "a.k.a \"try every possible path\"\n",
    "\n",
    "**The algorithm**: \n",
    "* Try every single permutation of the order of cities visited\n",
    "* Keep a copy of the best (i.e shortest) path\n",
    "\n",
    "**Runtime**: $O(n!)$. This algorithm *will* find the best solution, but it scales extremely poorly"
   ]
  },
  {
   "cell_type": "code",
   "execution_count": 68,
   "id": "complimentary-magic",
   "metadata": {
    "tags": [
     "remove_input"
    ]
   },
   "outputs": [
    {
     "data": {
      "application/vnd.jupyter.widget-view+json": {
       "model_id": "2c7bdadba8f741f3b32aa7376efcb96f",
       "version_major": 2,
       "version_minor": 0
      },
      "text/plain": [
       "Canvas(height=300, width=800)"
      ]
     },
     "metadata": {},
     "output_type": "display_data"
    }
   ],
   "source": [
    "from itertools import permutations\n",
    "\n",
    "# --- Helper Function\n",
    "def total_distance(points2D):\n",
    "    x = points2D[:, 0]\n",
    "    y = points2D[:, 1]\n",
    "    dist_array = (x[:-1]-x[1:])**2 + (y[:-1]-y[1:])**2\n",
    "    return np.sum(np.sqrt(dist_array))\n",
    "\n",
    "# Instantiate canvas to visualize problem\n",
    "canvas7 = Canvas(width=800, height=300, sync_image_data=False)\n",
    "display(canvas7)\n",
    "\n",
    "# Initialize parameters\n",
    "shifted_cities = np.copy(cities)\n",
    "shift = (canvas7.width//2)\n",
    "shifted_cities[:, 0] += shift\n",
    "\n",
    "record_distance = np.Inf\n",
    "\n",
    "all_city_paths = permutations(cities)\n",
    "total_permutations = np.math.factorial(len(cities))\n",
    "num_perms_attempted = 0\n",
    "\n",
    "# Animation Loop\n",
    "for city_path in all_city_paths:\n",
    "    num_perms_attempted += 1\n",
    "    city_path = np.array(city_path)\n",
    "    # Calculate path distance\n",
    "    current_distance = total_distance(city_path)\n",
    "    if current_distance < record_distance:\n",
    "        record_distance = current_distance\n",
    "        bestPath = np.copy(city_path)\n",
    "        bestPath[:, 0]+=(canvas7.width//2)\n",
    "        \n",
    "    # Draw to canvas\n",
    "    with hold_canvas(canvas7):\n",
    "        # Clear old animation step\n",
    "        canvas7.clear()\n",
    "        \n",
    "        # Draw cities & Paths\n",
    "        canvas7.line_width = 1.0\n",
    "        canvas7.fill_style = '#000000'\n",
    "        canvas7.fill_rect(0, 0, canvas7.width, canvas7.height)\n",
    "\n",
    "        canvas7.fill_style = '#ffffff'\n",
    "        canvas7.fill_circles(cities[:,0], cities[:,1], 3)\n",
    "        canvas7.stroke_style = '#ffffff'\n",
    "        canvas7.stroke_lines(city_path)\n",
    "        \n",
    "        # Draw text\n",
    "        canvas7.fill_text(f\"Total distance: {round(current_distance, 3)}\", 30, 10)\n",
    "        canvas7.fill_text(f\"Permutations: {num_perms_attempted}/{total_permutations}\", 230, 10)\n",
    "        canvas7.fill_text(f\"Best distance: {round(record_distance, 3)}\", 430, 10)\n",
    "        \n",
    "        # Draw Best Path\n",
    "        canvas7.fill_circles(shifted_cities[:,0], shifted_cities[:,1], 3)\n",
    "        canvas7.stroke_style = '#0FB439'\n",
    "        canvas7.line_width = 2.0\n",
    "        canvas7.stroke_lines(bestPath)"
   ]
  },
  {
   "cell_type": "code",
   "execution_count": 31,
   "id": "rural-sperm",
   "metadata": {
    "tags": [
     "remove_input"
    ]
   },
   "outputs": [
    {
     "name": "stdout",
     "output_type": "stream",
     "text": [
      "Lexographic Permutation solution for 7-city TSP (permutation_algorithm_cities_7.png)\n"
     ]
    }
   ],
   "source": [
    "# NOTE: The above demo is laggy because the canvas is simultaneously preparing an image\n",
    "# Setting sync_image_data=False in the Canvas object will speed up the demo!\n",
    "canvas7.to_file('permutation_algorithm_cities_7.png')\n",
    "print(\"Lexographic Permutation solution for 7-city TSP (permutation_algorithm_cities_7.png)\")"
   ]
  },
  {
   "cell_type": "markdown",
   "id": "rubber-hepatitis",
   "metadata": {},
   "source": [
    "**Conclusion**: This algorithm took several seconds to find the best path among just 7 cities. The algorithm's runtime does not scale well at all for many cities :("
   ]
  },
  {
   "cell_type": "markdown",
   "id": "governmental-politics",
   "metadata": {},
   "source": [
    "## A Genetic Algorithm (GA) Approach to TSP\n",
    "\n",
    "In a nut shell, a genetic algorithm is really just a fancy method of trial and error (Shiffman, 2017). I have outlined the general algorithm, below:\n",
    "\n",
    "**The Algorithm:**\n",
    "1. Create inital population (i.e. generation) of chromosomes (i.e. solutions)\n",
    "2. Calculate the fitness of each chromosome in the population\n",
    "3. Initialize next generation with $k$ fittest chromosomes from previous generation \n",
    "4. While next generation has less chromosomes than initial population:\n",
    "    * Select the two most fit chromosomes as parental chromosomes\n",
    "    * Perform crossover with the parental chromosomes\n",
    "    * Mutate each chromosome with some probability $p$\n",
    "    * Add offspring to next generation\n",
    "4. Go back to step 2\n",
    "\n",
    "**Runtime:** Will vary depending on the specific modifications to the algorithm, and the problem itself. There are many parameters and functions that we can play around with. The algorithm might miss the absolute best solution, but with the right parameters it will at least get very close.\n",
    "\n",
    "This will make more sense as I walk through each step of the algorithm. When it's relevant, I will also briefly explain biological terms and discuss how evolution actually works in nature so that the motivations behind the design of the algorithm make more sense."
   ]
  },
  {
   "cell_type": "markdown",
   "id": "designing-apparatus",
   "metadata": {},
   "source": [
    "### Genetic Algorithm Code"
   ]
  },
  {
   "cell_type": "code",
   "execution_count": 32,
   "id": "arctic-seating",
   "metadata": {},
   "outputs": [],
   "source": [
    "rng = np.random.default_rng()\n",
    "\n",
    "class TSPGA:\n",
    "    \"\"\"Travelling Salesperson Problem Genetic Algorithm (TSPGA) Class\"\"\"\n",
    "    def __init__(self, pop_size, cities, fitness_pow, crossover_func, mutation_func):\n",
    "        self.pop_size = pop_size\n",
    "        self.cities = cities\n",
    "        self.fitness_pow = fitness_pow\n",
    "        self.population = self.init_population()\n",
    "        self.pop_inv_fitness = self.calc_pop_inv_fitness(self.population)\n",
    "\n",
    "        self.crossover_func = crossover_func\n",
    "        self.mutation_func = mutation_func\n",
    "\n",
    "        # --- Statistics\n",
    "        self.best_chromosome_this_gen = self.get_best_chromosome()\n",
    "        self.best_distance_this_gen = self.calc_total_distance(self.cities[self.best_chromosome_this_gen-1])\n",
    "        self.best_chromosome_ever = np.copy(self.best_chromosome_this_gen)\n",
    "        self.best_distance_ever = self.best_distance_this_gen\n",
    "        self.avg_pop_fitness = self.calc_avg_pop_inv_fitness()\n",
    "\n",
    "        self.best_dist_history = [self.best_distance_this_gen]\n",
    "        self.avg_dist_history = [self.avg_pop_fitness]\n",
    "\n",
    "    def init_population(self):\n",
    "        \"\"\"Initializes population\"\"\"\n",
    "        if self.pop_size <= 0:\n",
    "            raise ValueError(\"Population must have 1 or more chromosomes\")\n",
    "        # Create random population of city paths\n",
    "        # Use rng.choice to sample without replacement\n",
    "        population = [rng.choice(len(self.cities), len(self.cities), replace=False) for _ in range(self.pop_size)]\n",
    "        return np.array(population, dtype=np.uint16) + 1\n",
    "\n",
    "    ### EVOLUTION ###\n",
    "    def evolve(self, num_elites=2, tournament_num=2, mutation_rate=0.1):\n",
    "        \"\"\"Evolves population\"\"\"\n",
    "        # --- Select elite chromosomes\n",
    "        elites_mask = self.get_elite_chromo_mask(k=num_elites)\n",
    "        elite_chromosomes = self.population[elites_mask]\n",
    "        \n",
    "        # --- Initialize next generation\n",
    "        next_generation = np.zeros(self.population.shape, dtype=np.uint16)\n",
    "        next_generation[:num_elites] = elite_chromosomes\n",
    "\n",
    "        # --- Select the remaning population\n",
    "        tournament_pool = self.population[~elites_mask]\n",
    "        new_offspring = []\n",
    "\n",
    "        # --- Create Offspring\n",
    "        for _ in range(self.pop_size//2 + 1):\n",
    "            # --- Select Parents\n",
    "            parent_A = self.tournament_selection(tournament_pool, k=tournament_num)\n",
    "            parent_B = self.tournament_selection(tournament_pool, k=tournament_num)\n",
    "            # --- Create offspring\n",
    "            offspring_A, offspring_B = self.crossover_func(parent_A, parent_B)\n",
    "            # --- Mutate offspring\n",
    "            offspring_A = self.mutation_func(offspring_A, mutation_rate=mutation_rate)\n",
    "            offspring_B = self.mutation_func(offspring_B, mutation_rate=mutation_rate)\n",
    "            # --- Store offspring\n",
    "            new_offspring += [offspring_A, offspring_B]\n",
    "\n",
    "        # --- Sort the new offspring\n",
    "        sorted_new_offspring = self.sort_offspring(np.array(new_offspring))\n",
    "\n",
    "        # --- Re-populate next generation\n",
    "        next_generation[num_elites:] = sorted_new_offspring[:self.pop_size - num_elites]\n",
    "\n",
    "        # --- Update Algorithm Statistics\n",
    "        self.population = np.copy(next_generation)\n",
    "        self.update_statistics()\n",
    "        return None\n",
    "    \n",
    "    ### FITNESS ###\n",
    "    # --- Inverse Fitness Measure\n",
    "    def calc_total_distance(self, points2D):\n",
    "        \"\"\"Calculates total distance along a line defined by an array of 2D points\"\"\"\n",
    "        if points2D.shape[1] != 2:\n",
    "            raise ValueError(\"Array should be 2D dimensional\")\n",
    "        x = points2D[:, 0]\n",
    "        y = points2D[:, 1]\n",
    "        dist_array = (x[:-1]-x[1:])**2 + (y[:-1]-y[1:])**2\n",
    "        return np.sum(np.sqrt(dist_array))\n",
    "\n",
    "    # --- Inverse Fitness of Chromosome\n",
    "    def calc_chromo_inv_fitness(self, chromosome):\n",
    "        \"Calculates inverse fitness of chromosome\"\n",
    "        total_distance = self.calc_total_distance(self.cities[chromosome-1])\n",
    "        return total_distance ** self.fitness_pow\n",
    "\n",
    "    # --- Inverse Fitness of Population\n",
    "    def calc_pop_inv_fitness(self, population):\n",
    "        \"Calculates inverse fitness for each chromosome of population\"\n",
    "        fitness = [self.calc_chromo_inv_fitness(chromosome) for chromosome in population]\n",
    "        return np.array(fitness)\n",
    "\n",
    "    # --- Average Inverse Fitness of Population\n",
    "    def calc_avg_pop_inv_fitness(self):\n",
    "        \"Calculates average inverse fitness of population\"\n",
    "        return np.sum(self.pop_inv_fitness) / len(self.pop_inv_fitness)\n",
    "\n",
    "    # --- Get Best Chromosome\n",
    "    def get_best_chromosome(self):\n",
    "        best_chromo_idx = np.argmin(self.pop_inv_fitness)\n",
    "        return self.population[best_chromo_idx]\n",
    "\n",
    "    ### SELECTION ###\n",
    "    # --- Elitism\n",
    "    def get_elite_chromo_mask(self, k=2):\n",
    "        \"\"\"Identifies loci of k fittest chromosomes\"\"\"\n",
    "        if k > len(self.pop_inv_fitness):\n",
    "            raise ValueError(\"Tried to select more elites than total chromosomes\")\n",
    "        sorted_indices = np.argsort(self.pop_inv_fitness)\n",
    "        mask = np.full(self.pop_size, False)\n",
    "        mask[sorted_indices[:k]] = True\n",
    "        return mask\n",
    "\n",
    "    # --- Tournament Selection\n",
    "    def tournament_selection(self, pool, k=2):\n",
    "        \"\"\"Selects fittest of k competitors\"\"\"\n",
    "        competitors = pool[rng.choice(pool.shape[0], size=k, replace=False)]\n",
    "        inv_fitnesses = [self.calc_chromo_inv_fitness(chromosome) for chromosome in competitors]\n",
    "        winner_idx = np.argmin(np.array(inv_fitnesses))\n",
    "        return competitors[winner_idx]\n",
    "\n",
    "    # --- Helper function\n",
    "    def sort_offspring(self, new_offspring):\n",
    "        \"\"\"Identifies loci of pop_size - num_elites fittest chromosomes\"\"\"\n",
    "        new_offspring_inv_fitness = self.calc_pop_inv_fitness(new_offspring)\n",
    "        sorted_indices = np.argsort(new_offspring_inv_fitness)\n",
    "        sorted_offspring = new_offspring[sorted_indices]\n",
    "        return sorted_offspring\n",
    "\n",
    "    ### Statistics ###\n",
    "    def update_statistics(self):\n",
    "        # --- Population Inverse Fitness\n",
    "        self.pop_inv_fitness = self.calc_pop_inv_fitness(self.population)\n",
    "\n",
    "        # --- Average Population Inverse Fitness\n",
    "        self.avg_pop_fitness = self.calc_avg_pop_inv_fitness()\n",
    "\n",
    "        # --- Best Chromosome this generation\n",
    "        self.best_chromosome_this_gen = self.get_best_chromosome()\n",
    "\n",
    "        # --- Best Distance this generation\n",
    "        self.best_distance_this_gen = self.calc_total_distance(self.cities[self.best_chromosome_this_gen-1])\n",
    "        if self.best_distance_this_gen < self.best_distance_ever:\n",
    "            # --- Best Chromosome EVER\n",
    "            self.best_chromosome_ever = np.copy(self.best_chromosome_this_gen)\n",
    "            # --- Best Distance EVER\n",
    "            self.best_distance_ever = self.best_distance_this_gen\n",
    "            \n",
    "        # --- Update Average Distance History\n",
    "        self.avg_dist_history.append(self.avg_pop_fitness)\n",
    "        # --- Update Best Distance History\n",
    "        self.best_dist_history.append(self.best_distance_this_gen)\n",
    "        return None"
   ]
  },
  {
   "cell_type": "code",
   "execution_count": 33,
   "id": "attempted-rally",
   "metadata": {},
   "outputs": [],
   "source": [
    "# --- Partially Mapped Crossover\n",
    "def pmx(chromosome_a, chromosome_b):\n",
    "    offspring_a = np.copy(chromosome_a)\n",
    "    offspring_b = np.copy(chromosome_b)\n",
    "    i = rng.integers(low=0, high=len(chromosome_a)-2)\n",
    "    j = rng.integers(low=i+1, high=len(chromosome_a)-1)\n",
    "    for elb, ela in zip(chromosome_b[i:j], chromosome_a[i:j]):\n",
    "        # --- First offspring mapping\n",
    "        where_elb_in_a = np.where(offspring_a == elb)[0][0]\n",
    "        where_elb_in_b = np.where(chromosome_b == elb)[0][0]\n",
    "        offspring_a[[where_elb_in_a, where_elb_in_b]] = offspring_a[[where_elb_in_b, where_elb_in_a]]\n",
    "        \n",
    "        # --- Second offspring mapping\n",
    "        where_ela_in_a = np.where(chromosome_a == ela)[0][0]\n",
    "        where_ela_in_b = np.where(offspring_b == ela)[0][0]\n",
    "        offspring_b[[where_ela_in_a, where_ela_in_b]] = offspring_b[[where_ela_in_b, where_ela_in_a]]\n",
    "    return offspring_a, offspring_b\n",
    "\n",
    "# ---  Reverse Sequence Mutation\n",
    "def rsmutation(chromosome, mutation_rate=0.1):\n",
    "    if rng.random() < mutation_rate:\n",
    "        i = rng.choice(len(chromosome)-1)\n",
    "        j = rng.integers(low=i, high=len(chromosome))\n",
    "        if i == j: j+=2\n",
    "        chromosome[i:j] = chromosome[i:j][::-1]\n",
    "    return chromosome"
   ]
  },
  {
   "cell_type": "code",
   "execution_count": 34,
   "id": "dangerous-stroke",
   "metadata": {
    "tags": [
     "remove_input"
    ]
   },
   "outputs": [],
   "source": [
    "# Function for drawing genetic algorithm to HTML Canvas\n",
    "def draw_ga(canvas, ga_class, cities, shifted_cities, generation):\n",
    "    # Draw to canvas\n",
    "    with hold_canvas(canvas):\n",
    "        # Clear old animation step\n",
    "        canvas.clear()\n",
    "        # Draw background\n",
    "        canvas.line_width = 1.0\n",
    "        canvas.fill_style = '#000000'\n",
    "        canvas.fill_rect(0, 0, canvas.width, canvas.height)\n",
    "        \n",
    "        # Draw text\n",
    "        canvas.fill_style = '#ffffff'\n",
    "        canvas.fill_text(f\"Generation: {generation}\", 30, 10)\n",
    "        canvas.fill_text(f\"Current distance: {round(ga_class.best_distance_this_gen, 3)}\", 230, 10)\n",
    "        canvas.fill_text(f\"Best distance: {round(ga_class.best_distance_ever, 3)}\", 430, 10)\n",
    "        \n",
    "        # Draw best path this generation\n",
    "        canvas.fill_circles(cities[:,0], cities[:,1], 3)\n",
    "        canvas.stroke_style = '#ffffff'\n",
    "        canvas.stroke_lines(cities[ga_class.best_chromosome_this_gen-1])\n",
    "        \n",
    "        # Draw Best Path Ever\n",
    "        canvas.fill_circles(shifted_cities[:,0], shifted_cities[:,1], 3)\n",
    "        canvas.stroke_style = '#0FB439'\n",
    "        canvas.line_width = 2.0\n",
    "        canvas.stroke_lines(shifted_cities[ga_class.best_chromosome_ever-1])"
   ]
  },
  {
   "cell_type": "markdown",
   "id": "listed-vermont",
   "metadata": {},
   "source": [
    "### Genetic Algorithm Visualization (7 cities)\n",
    "\n",
    "Run the algorithm below a few times. You will see that sometimes the GA gets the optimal solution within a few generations, and sometimes it doesn't get the optimal solution at all (but something pretty close).\n",
    "\n",
    "There are two parameters I suggest you play with:\n",
    "1. **mutation_rate**: try setting it really low (close to 0.0). The algorithm will tend to get stuck in local optima. If you set it really high (close to 1.0), the algorithm will have a hard time converging on a solution.\n",
    "\n",
    "2. **pop_size**. A low population size means low diversity of solutions. This makes it more likely for the algorithm to get stuck in local optima. A large population takes more computing power, but is more likely to find the global minima of a 7-city TSP.\n",
    "\n",
    "After all the explanations, near the end of this notebook, there is another GA demo. Except, that one will attempt to solve TSP for 20 cities."
   ]
  },
  {
   "cell_type": "code",
   "execution_count": 67,
   "id": "national-nudist",
   "metadata": {
    "tags": [
     "remove_input"
    ]
   },
   "outputs": [
    {
     "data": {
      "application/vnd.jupyter.widget-view+json": {
       "model_id": "3fbaa3dc6a7e4f1e90575f5f26f3e274",
       "version_major": 2,
       "version_minor": 0
      },
      "text/plain": [
       "Canvas(height=300, width=800)"
      ]
     },
     "metadata": {},
     "output_type": "display_data"
    }
   ],
   "source": [
    "# --- Initialize canvas\n",
    "ga_canvas = Canvas(width=800, height=300, sync_image_data=False)\n",
    "display(ga_canvas)\n",
    "\n",
    "# --- Initialize GA Parameters\n",
    "pop_size = 50\n",
    "fitness_pow = 1\n",
    "generation_limit = 100\n",
    "crossover_func = pmx\n",
    "mutation_func = rsmutation\n",
    "ga = TSPGA(pop_size, cities, fitness_pow, crossover_func, mutation_func)\n",
    "\n",
    "# Other Animation Parameters\n",
    "shifted_cities = np.copy(cities)\n",
    "shift = (ga_canvas.width//2)\n",
    "shifted_cities[:, 0] += shift\n",
    "\n",
    "# --- Animation Loop\n",
    "draw_ga(ga_canvas, ga, cities, shifted_cities, 0)\n",
    "sleep(0.1)\n",
    "for i in range(generation_limit):\n",
    "    ga.evolve(num_elites=2, tournament_num=2, mutation_rate=0.3)\n",
    "    draw_ga(ga_canvas, ga, cities, shifted_cities, i+1)\n",
    "    sleep(0.1) # ~25Hz animation"
   ]
  },
  {
   "cell_type": "code",
   "execution_count": 36,
   "id": "swedish-hamburg",
   "metadata": {
    "tags": [
     "remove_input"
    ]
   },
   "outputs": [
    {
     "name": "stdout",
     "output_type": "stream",
     "text": [
      "Genetic Algorithm solution fot 7-city TSP (ga_cities_7.png)\n"
     ]
    }
   ],
   "source": [
    "ga_canvas.to_file('ga_cities_7.png')\n",
    "print(\"Genetic Algorithm solution fot 7-city TSP (ga_cities_7.png)\")"
   ]
  },
  {
   "cell_type": "code",
   "execution_count": 38,
   "id": "confidential-pathology",
   "metadata": {
    "tags": [
     "remove_input"
    ]
   },
   "outputs": [
    {
     "data": {
      "image/png": "[encoded data removed]",
      "text/plain": [
       "<Figure size 432x288 with 1 Axes>"
      ]
     },
     "metadata": {
      "needs_background": "light"
     },
     "output_type": "display_data"
    }
   ],
   "source": [
    "# Fitness History Plot\n",
    "\n",
    "# --- Best Distance and Average Distance History\n",
    "fig, dist_history = plt.subplots(1, 1, figsize=(6,4))\n",
    "\n",
    "dist_history.plot(np.arange(generation_limit+1), ga.avg_dist_history, label=\"Population Average\")\n",
    "dist_history.plot(np.arange(generation_limit+1), ga.best_dist_history, label=\"Best Chromosome\")\n",
    "\n",
    "dist_history.set_title(\"Genetic Algorithm + Travelling Salesperson Problem\\n(Inverse Fitness History)\")\n",
    "dist_history.set_xlabel('Generation')\n",
    "dist_history.set_ylabel('Total Distance (px)')\n",
    "\n",
    "dist_history.legend()\n",
    "\n",
    "plt.show()"
   ]
  },
  {
   "cell_type": "markdown",
   "id": "prepared-manual",
   "metadata": {},
   "source": [
    "## A Closer Look at the Genetic Algorithm"
   ]
  },
  {
   "cell_type": "markdown",
   "id": "ceramic-ireland",
   "metadata": {},
   "source": [
    "### 1. Create Initial Population of Chromosomes\n",
    "\n",
    "**Chromosomes**\n",
    "\n",
    "In general, a population (or generation) consists of chromosomes (a.k.a solutions, or genotypes). Each chromosome encodes a solution. The actual characteristics of the chromosome manifests when it is 'expressed' in the context of some environment. Biologists call these characteristics the 'phenotype'.\n",
    "\n",
    "In nature, the information that makes up any creature is encoded in a molecule called DNA. For example, some segment of a purple flower's DNA (the chromosome, or encoding) expresses a purple flower (the phenotype) in an environment where it can grow, like a field. The flower's particular phenotype, it's purple petal colour, is a solution to staying alive and reproducing because some petal colours attract pollinators better than others.\n",
    "\n",
    ">More information on biological chomosomes [here](https://www.khanacademy.org/science/high-school-biology/hs-reproduction-and-cell-division/hs-chromosome-structure-and-numbers/a/dna-and-chromosomes-article)\n",
    "\n",
    "**Chromosomes in the context of Genetic Algorithms (GA)**\n",
    "\n",
    "A chromosome can be represented as an array:"
   ]
  },
  {
   "cell_type": "code",
   "execution_count": 42,
   "id": "solid-advertiser",
   "metadata": {
    "tags": [
     "remove_input"
    ]
   },
   "outputs": [
    {
     "data": {
      "image/png": "[encoded data removed]",
      "text/plain": [
       "<IPython.core.display.Image object>"
      ]
     },
     "execution_count": 42,
     "metadata": {},
     "output_type": "execute_result"
    }
   ],
   "source": [
    "Image(filename='chromosomes_jeremy_fisher_2016.png')"
   ]
  },
  {
   "cell_type": "markdown",
   "id": "theoretical-appeal",
   "metadata": {},
   "source": [
    ">Image by [Jeremy Fisher (2016)](https://www.slideshare.net/JeremyFisher1/genetic-algorithms-programming-by-the-seat-of-your-genes)\n",
    "\n",
    "'**Locus**' for biologists is the same as '**index**' for programmers. '**Allele**' is the particular value at some locus; this is the same as **array[index]** (i.e. the value of the array at the index) for programmers\n",
    "\n",
    "---\n",
    "\n",
    "In the travelling salesman problem, the chromosome is a NumPy array of integers. The phenotype of the array is the visitation order of the cities, where a city is represented by an integer.\n",
    "\n",
    "For example, let's say we have cities 1, 2, 3. For a population size of 2, we could randomly initialize these chromosomes:\n",
    "\n",
    "$$\\text{Chromosome: } [1, 2, 3] \\Rightarrow \\text{Phenotype: Visit city 1 first, then city 2, then city 3}$$\n",
    "\n",
    "$$\\text{Chromosome: } [2, 3, 1] \\Rightarrow \\text{Phenotype: Visit city 2 first, then city 3, then city 1}$$"
   ]
  },
  {
   "cell_type": "markdown",
   "id": "biological-barcelona",
   "metadata": {},
   "source": [
    "### 2. Calculate Fitness"
   ]
  },
  {
   "cell_type": "markdown",
   "id": "prescription-asthma",
   "metadata": {},
   "source": [
    "To measure how 'good' a chromosome is, we need to assign it a fitness score. The fitness score determines how likely a chromosome will contribute it's alleles to the next generation of chromosomes. \n",
    "\n",
    "Going back to the flower example, the most fit flowers are more likely to reproduce. Let's say purple flowers attract bees better than the other colours. Consequently, purple flowers are more likely to be pollinated, reproduce, and pass on the purple phenotype to the next generation; we say that purple flowers have a high fitness relative to other flower colours. This means that over the generations, a greater proportion of the flowers will be purple. Biologists would say the purple phenotype will be selected for.\n",
    "\n",
    "---\n",
    "\n",
    "In TSP, the shorter the total distance of the trip, the better. In other words, we want to select for chromosomes with shorter phenotypes. So, our fitness function, $f$ is:\n",
    "\n",
    "$$f(c) = \\frac{1}{D_c}$$\n",
    "\n",
    "where $f(c)$ is the fitness of some chromosome $c$, $D$ is phenotype, i.e. the total distance of $c$. Fitness functions are analogous to cost functions in other Machine Learning applications. \n",
    "\n",
    ">**Side Note**: I will use inverse fitness in the code because I find it more convenient to work with. Conceptually, this means I want the algorithm to select for the values with the lowest inverse fitness. Additionally, we can use non-linear fitness functions, like $f(c) = \\frac{1}{(D_c)^2}$ and $f(c) = \\frac{1}{(D_c)^4}$ to better maximize the likely of retaining fitter chromosomes in each generation."
   ]
  },
  {
   "cell_type": "markdown",
   "id": "empirical-asian",
   "metadata": {},
   "source": [
    "### 3. Create the Next Generation"
   ]
  },
  {
   "cell_type": "markdown",
   "id": "endless-property",
   "metadata": {},
   "source": [
    "#### 3a. Parental Chromosome Selection\n",
    "\n",
    "Evolution works by the process of selection. There must be some selection pressure from the environment on the chromosomes so that fitter chromosomes are more likely to survive than others.\n",
    "\n",
    "In the case of elk, the individuals with the biggest and strongest antlers are more likely to win fights. There is a tournament of sorts between elk, where the winner gets to mate and pass on his genes. Over time, elk with bigger antlers will be selected for.\n",
    "\n",
    "---\n",
    "\n",
    "Similar to the elk scenario, let's randomly select pairs of chromosomes to compete with each other. The chromosome with the shorter phenotype will win the competition, and will be selected as a parental chromosome for the next generation. This is known as **tournament selection**. We will perform tournament selection twice to get two parental chromosomes. That way we can implement another useful idea from evolution, crossover, that I'll dicuss in the next section.\n",
    "\n",
    ">Additionally, to make sure each subsequent generation has a chromosome that's at least as good as the last generation, we will automatically promote the $k$ fittest solutions into the next generation. This priniciple is called **elitism** because we are favouring the best (most elite) solutions. We will perform tournament selection with the remaining population."
   ]
  },
  {
   "cell_type": "markdown",
   "id": "nominated-vehicle",
   "metadata": {},
   "source": [
    "#### 3.b Crossover\n",
    "\n",
    "Children are clearly a mix of their mum and dad. This mixing of mum-ness and dad-ness happens at the level of biological chromosomes. Biologists call this chromosome-mixing process **crossover**. The biological [details](https://www.khanacademy.org/science/ap-biology/heredity/meiosis-and-genetic-diversity/a/phases-of-meiosis) aren't so important for our TSP algorithm, but for genetic algorithms, in general, the idea is to take two chromosomes and mix them up into new chromosomes. This can introduce into our population variations that are likely to lead to a global minima or maxima in the solution space.\n",
    "\n",
    "In the literature on genetic algorithms, a common crossover technique is single-point crossover. This function takes two parental chromosomes and returns two offspring chromosomes that are a random mix of the two parental chromosomes. Unfortunately, we can't exactly use traditional genetic algorithm crossover functions in TSP. For example, take these two chromosomes:\n",
    "\n",
    "$$[1, 8, 6, 4, 5, 3, 7, 2], [5, 2, 3, 8, 1, 7, 6, 4]$$\n",
    "\n",
    "If we perform a single-point crossover, we might get\n",
    "\n",
    "$$[1, 8, 6, 4,| 5, 3, 7, 2] \\searrow [1, 8, 6, 4,| 1, 7, 6, 4]$$\n",
    "\n",
    "$$[5, 2, 3, 8,| 1, 7, 6, 4] \\nearrow [5, 2, 3, 8,| 5, 3, 7, 2]$$\n",
    "\n",
    "But neither of these new chromosomes are valid paths because they miss some cities and repeat others."
   ]
  },
  {
   "cell_type": "markdown",
   "id": "solar-appendix",
   "metadata": {},
   "source": [
    "According to the literature, **Partially Mapped Crossover (PMX)** is a crossover function that performs well for TSP (Larrañaga et al. 1999). The PMX function takes two parental chromosomes, designated $a$ and $b$, and performs the following:\n",
    "\n",
    "1. Let offspring$_a$ = $a$, and offspring$_b$ = $b$\n",
    "2. Randomly pick two loci\n",
    "3. For each element $k_b$ in between the two loci in $b$: \n",
    "    1. Get the locus of $k_b$ in $a$ ($l_{ka}$) and $b$ ($l_{kb}$).\n",
    "    2. In offspring$_a$, swap the alleles at $l_{ka}$ and $l_{kb}$\n",
    "4. For each element $k_a$ in between the two loci in $a$: \n",
    "    1. Get the locus of $k_a$ in $a$ ($l_{ka}$) and $b$ ($l_{kb}$).\n",
    "    2. In offspring$_b$, swap the alleles at $l_{ka}$ and $l_{kb}$"
   ]
  },
  {
   "cell_type": "code",
   "execution_count": 43,
   "id": "serious-sweden",
   "metadata": {
    "tags": [
     "remove_input"
    ]
   },
   "outputs": [
    {
     "data": {
      "image/png": "[encoded data removed]",
      "text/plain": [
       "<IPython.core.display.Image object>"
      ]
     },
     "execution_count": 43,
     "metadata": {},
     "output_type": "execute_result"
    }
   ],
   "source": [
    "Image(filename='pmx_crossover_algorithm.png')"
   ]
  },
  {
   "cell_type": "markdown",
   "id": "australian-amazon",
   "metadata": {},
   "source": [
    ">Image by [Gokturk Ucoluk (2002)](https://user.ceng.metu.edu.tr/~ucoluk/research/publications/tspnew.pdf)"
   ]
  },
  {
   "cell_type": "markdown",
   "id": "interim-artwork",
   "metadata": {},
   "source": [
    "#### 3.c Mutation\n",
    "\n",
    "In addition to the variation produced by crossover, another important function for obtaining novel solutions are **mutations**. In biological organisms, mutations are basically spelling mistakes at some locus in the chromosome. Most of the time these spelling mistakes have a neutral effect (like an eye colour mutation) or a detrimental effect (like a mutation that results in cancer). However, these mutations can sometimes be advantageous. For example, antibiotics kill most of the target bacteria, but some bacteria happen to have mutations that make them antibiotic-resistant.\n",
    "\n",
    "---\n",
    "\n",
    "We can apply a similar idea to the TSP. A common GA mutation function changes an allele at a random locus; this is called a point mutation function. As with crossover, we need to modify this traditional mutation function to obtain valid paths. For the TSP, we could use a mutation function that swaps the loci of two alleles instead. \n",
    "\n",
    "Let's use a mutation function called **Reverse Sequence Mutation (RSM)**. With some probability $p$ the chromosome will mutate. Mutating the chromosomes means we take the chromosome of length $N$, we choose two loci, $i$ and $j$, such that $1 \\lt i \\lt j \\lt N$, then we reverse the order of every allele from $i$ through $j$, inclusive.\n",
    "\n",
    "For example, let's say we pick $i=2$ and $j=5$. This means we reverse every allele from the 2nd locus to the 5th, inclusive. In the chromosome below, this means reversing the order of 2, 3, 4, 5:\n",
    "\n",
    "$$RSM_{i=2, j=5} \\bigg( [1, 2, 3, 4, 5, 6] \\bigg) \\Rightarrow [1, 5, 4, 3, 2, 6]$$"
   ]
  },
  {
   "cell_type": "markdown",
   "id": "excessive-bulgarian",
   "metadata": {},
   "source": [
    "#### 4. Create Next Generation\n",
    "\n",
    "This step is straightforward. We take the ideas we saw previously - chromosomes, fitnesses functions, tournament selection, elitism, crossover, mutations - and throw them in loop. The specific implementation can vary from problem to problem. I have written some pseudo code below\n",
    "\n",
    "```python\n",
    "def evolve(population):\n",
    "    # --- Pick elite chromosomes from current population\n",
    "    elites = pick_elite_chromosomes(population)\n",
    "    # --- Initialize next generation with elite chromosomes\n",
    "    next_generation = [elites]\n",
    "    # --- Create tournament pool\n",
    "    tournament_pool = population_without_elites(population, elites)\n",
    "    while pop_size(next_generation) < pop_size(population):\n",
    "        # --- Pick parent chromosomes\n",
    "        parent_A = tournament_selection(remaining_population)\n",
    "        parent_B = tournament_selection(remaining_population)\n",
    "        # --- Crossover parents\n",
    "        offspring_A, offspring_B = crossover(parent_A, parent_B)\n",
    "        # --- Mutate offspring\n",
    "        offspring_A = mutate(offspring_A)\n",
    "        offspring_B = mutate(offspring_B)\n",
    "        # --- Add offspring to next_generation\n",
    "        next_generation += [offspring_A, offspring_B]\n",
    "    return next_generation\n",
    "```\n",
    "\n",
    "We repeat this evolution for some number of generations until the algorithm produces a satisfactory solution.\n",
    "\n",
    ">Please see the TSPGA class in the full jupyter notebook for more details, specifically the TSPGA class method ```evolve()``` "
   ]
  },
  {
   "cell_type": "markdown",
   "id": "continued-methodology",
   "metadata": {},
   "source": [
    "## Conclusion\n",
    "\n",
    "And that's it for the Genetic Algorithm! No calculus, or fancy linear algebra necessary for the algorithm to work. Just some basic functions and a lot of inspiration from Mother Nature.\n",
    "\n",
    "To end off this notebook, below I have another demo of the Genetic Algorithm, but this time you can watch it solve a 20-city Travelling Salesperson Problem. See if you come up with a better solution!"
   ]
  },
  {
   "cell_type": "markdown",
   "id": "confident-costa",
   "metadata": {},
   "source": [
    "## Genetic Algorithm Demo (20 cities)"
   ]
  },
  {
   "cell_type": "code",
   "execution_count": 83,
   "id": "wooden-belle",
   "metadata": {
    "tags": [
     "remove_input"
    ]
   },
   "outputs": [
    {
     "data": {
      "application/vnd.jupyter.widget-view+json": {
       "model_id": "6fcf59edddfc43f6b5fc01970311ae23",
       "version_major": 2,
       "version_minor": 0
      },
      "text/plain": [
       "Canvas(height=300, width=800)"
      ]
     },
     "metadata": {},
     "output_type": "display_data"
    }
   ],
   "source": [
    "# --- Initialize canvas\n",
    "ga_canvas2 = Canvas(width=800, height=300)\n",
    "display(ga_canvas2)\n",
    "\n",
    "cities20 = create_cities(20, lower_bounds=[15, 15], upper_bounds=[(ga_canvas2.width//2)-15, (ga_canvas2.height)-15])\n",
    "\n",
    "# --- Initialize GA Parameters\n",
    "pop_size = 500\n",
    "fitness_pow = 2\n",
    "generation_limit20 = 300\n",
    "crossover_func = pmx\n",
    "mutation_func = rsmutation\n",
    "ga20 = TSPGA(pop_size, cities20, fitness_pow, crossover_func, mutation_func)\n",
    "\n",
    "# Other Animation Parameters\n",
    "shifted_cities20 = np.copy(cities20)\n",
    "shift = (ga_canvas2.width//2)\n",
    "shifted_cities20[:, 0] += shift\n",
    "\n",
    "# --- Animation Loop\n",
    "draw_ga(ga_canvas2, ga20, cities20, shifted_cities20, 0)\n",
    "for i in range(generation_limit20):\n",
    "    ga20.evolve(num_elites=1, tournament_num=4, mutation_rate=1.0)\n",
    "    draw_ga(ga_canvas2, ga20, cities20, shifted_cities20, i+1)"
   ]
  },
  {
   "cell_type": "code",
   "execution_count": 74,
   "id": "lesbian-bottle",
   "metadata": {
    "tags": [
     "remove_input"
    ]
   },
   "outputs": [
    {
     "data": {
      "image/png": "[encoded data removed]",
      "text/plain": [
       "<Figure size 432x288 with 1 Axes>"
      ]
     },
     "metadata": {
      "needs_background": "light"
     },
     "output_type": "display_data"
    }
   ],
   "source": [
    "# Fitness History Plot\n",
    "\n",
    "# --- Best Distance and Average Distance History\n",
    "fig, dist_history = plt.subplots(1, 1, figsize=(6,4))\n",
    "\n",
    "dist_history.plot(np.arange(generation_limit20+1), ga20.avg_dist_history, label=\"Population Average\")\n",
    "dist_history.plot(np.arange(generation_limit20+1), ga20.best_dist_history, label=\"Best Chromosome\")\n",
    "\n",
    "dist_history.set_title(\"Genetic Algorithm + Travelling Salesperson Problem\\n(Inverse Fitness History)\")\n",
    "dist_history.set_xlabel('Generation')\n",
    "dist_history.set_ylabel('Total Distance (px)')\n",
    "\n",
    "dist_history.legend()\n",
    "\n",
    "plt.show()"
   ]
  },
  {
   "cell_type": "markdown",
   "id": "documented-quebec",
   "metadata": {},
   "source": [
    "## References\n",
    "\n",
    "Shiffman, D. (2017, May 1). Coding Challenge #35.4: Traveling Salesperson with Genetic Algorithm. YouTube. [https://www.youtube.com/watch?v=M3KTWnTrU_c](https://www.youtube.com/watch?v=M3KTWnTrU_c) \n",
    "\n",
    "CernerEng. (2016, July 11). Genetic Algorithms - Jeremy Fisher. YouTube. [https://youtu.be/7J-DfS52bnI](https://youtu.be/7J-DfS52bnI)\n",
    "* Programming by the Seat of Your Genes [Slides](https://www.slideshare.net/JeremyFisher1/genetic-algorithms-programming-by-the-seat-of-your-genes) (Jeremy Fisher, 2016)\n",
    "\n",
    "Larrañaga, P., Kuijpers, C. M. H., Murga, R. H., Inza, I., &amp; Dizdarevic, S. (1999). Genetic Algorithms for the Travelling Salesman Problem: A Review of Representations and Operators. Artificial Intelligence Review, 13(2), 129–170. [https://doi.org/10.1023/a:1006529012972](https://doi.org/10.1023/a:1006529012972) \n",
    "\n",
    "Üçoluk, G. (2002). Genetic Algorithm Solution of the TSP Avoiding Special Crossover and Mutation. Intelligent Automation &amp; Soft Computing, 8(3), 265–272. [https://doi.org/10.1080/10798587.2000.10642829](https://doi.org/10.1080/10798587.2000.10642829)\n",
    "\n"
   ]
  }
 ],
 "metadata": {
  "kernelspec": {
   "display_name": "ml_env_py38",
   "language": "python",
   "name": "ml_env_py38"
  },
  "language_info": {
   "codemirror_mode": {
    "name": "ipython",
    "version": 3
   },
   "file_extension": ".py",
   "mimetype": "text/x-python",
   "name": "python",
   "nbconvert_exporter": "python",
   "pygments_lexer": "ipython3",
   "version": "3.7.10"
  }
 },
 "nbformat": 4,
 "nbformat_minor": 5
}
